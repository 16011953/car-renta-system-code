{
 "cells": [
  {
   "cell_type": "code",
   "execution_count": 1,
   "id": "bb502b3b-3fd7-454d-bb37-54488aa709ac",
   "metadata": {},
   "outputs": [
    {
     "name": "stdout",
     "output_type": "stream",
     "text": [
      "Requirement already satisfied: graphviz in c:\\users\\administrator\\anaconda3\\lib\\site-packages (0.20.3)\n",
      "Note: you may need to restart the kernel to use updated packages.\n"
     ]
    }
   ],
   "source": [
    "pip install graphviz\n"
   ]
  },
  {
   "cell_type": "code",
   "execution_count": 3,
   "id": "1ed8c4f1-6b4c-4327-9c74-c71672bc3105",
   "metadata": {},
   "outputs": [
    {
     "name": "stderr",
     "output_type": "stream",
     "text": [
      "Warning: using box for unknown shape actor\n",
      "Warning: using box for unknown shape actor\n"
     ]
    },
    {
     "data": {
      "text/plain": [
       "'car_rental_use_case_diagram.pdf'"
      ]
     },
     "execution_count": 3,
     "metadata": {},
     "output_type": "execute_result"
    }
   ],
   "source": [
    "from graphviz import Digraph\n",
    "\n",
    "# Create a Digraph object\n",
    "dot = Digraph(comment='Car Rental System Use Case Diagram')\n",
    "\n",
    "# Define actors (users)\n",
    "dot.node('Customer', shape='actor')\n",
    "dot.node('Admin', shape='actor')\n",
    "dot.node('Payment Gateway', shape='actor')\n",
    "\n",
    "# Define use cases (functional requirements)\n",
    "dot.node('Register/Login', shape='ellipse')\n",
    "dot.node('Search Car', shape='ellipse')\n",
    "dot.node('Make Booking', shape='ellipse')\n",
    "dot.node('Make Payment', shape='ellipse')\n",
    "dot.node('Manage Cars', shape='ellipse')\n",
    "dot.node('Generate Reports', shape='ellipse')\n",
    "\n",
    "# Define relationships between actors and use cases\n",
    "dot.edge('Customer', 'Register/Login')\n",
    "dot.edge('Customer', 'Search Car')\n",
    "dot.edge('Customer', 'Make Booking')\n",
    "dot.edge('Customer', 'Make Payment')\n",
    "\n",
    "dot.edge('Admin', 'Manage Cars')\n",
    "dot.edge('Admin', 'Generate Reports')\n",
    "\n",
    "dot.edge('Payment Gateway', 'Make Payment')\n",
    "\n",
    "# Render the diagram to a file\n",
    "dot.render('car_rental_use_case_diagram', format='png')\n",
    "\n",
    "# View the output in the Python environment (Optional)\n",
    "dot.view()\n"
   ]
  },
  {
   "cell_type": "code",
   "execution_count": 7,
   "id": "0e0e2c76-df46-48bf-aedd-12090a1f4768",
   "metadata": {},
   "outputs": [],
   "source": [
    "dot.node('Customer Support', shape='ellipse')  # New Use Case\n",
    "dot.edge('Customer', 'Customer Support')\n"
   ]
  },
  {
   "cell_type": "code",
   "execution_count": 11,
   "id": "7133469c-d592-45e8-bbcf-d4f5c855934b",
   "metadata": {},
   "outputs": [
    {
     "name": "stderr",
     "output_type": "stream",
     "text": [
      "Warning: using box for unknown shape actor\n"
     ]
    },
    {
     "data": {
      "text/plain": [
       "'car_rental_use_case_diagram.png'"
      ]
     },
     "execution_count": 11,
     "metadata": {},
     "output_type": "execute_result"
    }
   ],
   "source": [
    "import os\n",
    "from graphviz import Digraph\n",
    "\n",
    "# Set the Graphviz executable path (if it's not on the system PATH)\n",
    "os.environ[\"PATH\"] += os.pathsep + 'C:/Program Files/Graphviz/bin'\n",
    "\n",
    "# Create a Digraph object\n",
    "dot = Digraph(comment='Car Rental System Use Case Diagram')\n",
    "\n",
    "# Define actors (users)\n",
    "dot.node('Customer', shape='actor')\n",
    "dot.node('Admin', shape='actor')\n",
    "dot.node('Payment Gateway', shape='actor')\n",
    "\n",
    "# Define use cases (functional requirements)\n",
    "dot.node('Register/Login', shape='ellipse')\n",
    "dot.node('Search Car', shape='ellipse')\n",
    "dot.node('Make Booking', shape='ellipse')\n",
    "dot.node('Make Payment', shape='ellipse')\n",
    "dot.node('Manage Cars', shape='ellipse')\n",
    "dot.node('Generate Reports', shape='ellipse')\n",
    "\n",
    "# Define relationships between actors and use cases\n",
    "dot.edge('Customer', 'Register/Login')\n",
    "dot.edge('Customer', 'Search Car')\n",
    "dot.edge('Customer', 'Make Booking')\n",
    "dot.edge('Customer', 'Make Payment')\n",
    "\n",
    "dot.edge('Admin', 'Manage Cars')\n",
    "dot.edge('Admin', 'Generate Reports')\n",
    "\n",
    "dot.edge('Payment Gateway', 'Make Payment')\n",
    "\n",
    "# Render the diagram to a file\n",
    "dot.render('car_rental_use_case_diagram', format='png')\n"
   ]
  },
  {
   "cell_type": "code",
   "execution_count": 13,
   "id": "624c912e-eb56-4b68-80b8-89a16ed45d11",
   "metadata": {},
   "outputs": [
    {
     "name": "stderr",
     "output_type": "stream",
     "text": [
      "Warning: using box for unknown shape actor\n",
      "Warning: using box for unknown shape actor\n"
     ]
    },
    {
     "data": {
      "text/plain": [
       "'car_rental_use_case_diagram.pdf'"
      ]
     },
     "execution_count": 13,
     "metadata": {},
     "output_type": "execute_result"
    }
   ],
   "source": [
    "from graphviz import Digraph\n",
    "\n",
    "# Create a Digraph object\n",
    "dot = Digraph(comment='Car Rental System Use Case Diagram')\n",
    "\n",
    "# Define actors and use cases\n",
    "dot.node('Customer', shape='actor')\n",
    "dot.node('Admin', shape='actor')\n",
    "dot.node('Payment Gateway', shape='actor')\n",
    "dot.node('Register/Login', shape='ellipse')\n",
    "dot.node('Search Car', shape='ellipse')\n",
    "dot.node('Make Booking', shape='ellipse')\n",
    "dot.node('Make Payment', shape='ellipse')\n",
    "dot.node('Manage Cars', shape='ellipse')\n",
    "dot.node('Generate Reports', shape='ellipse')\n",
    "\n",
    "# Define relationships\n",
    "dot.edge('Customer', 'Register/Login')\n",
    "dot.edge('Customer', 'Search Car')\n",
    "dot.edge('Customer', 'Make Booking')\n",
    "dot.edge('Customer', 'Make Payment')\n",
    "dot.edge('Admin', 'Manage Cars')\n",
    "dot.edge('Admin', 'Generate Reports')\n",
    "dot.edge('Payment Gateway', 'Make Payment')\n",
    "\n",
    "# Render the diagram to a file\n",
    "dot.render('car_rental_use_case_diagram', format='png')\n",
    "\n",
    "# Optional: Open the generated file automatically\n",
    "dot.view()\n"
   ]
  },
  {
   "cell_type": "code",
   "execution_count": 28,
   "id": "bcb8c014-1e79-40c2-b210-179e91ef7a62",
   "metadata": {},
   "outputs": [
    {
     "data": {
      "text/plain": [
       "'car_rental_system_class_diagram.pdf'"
      ]
     },
     "execution_count": 28,
     "metadata": {},
     "output_type": "execute_result"
    }
   ],
   "source": [
    "from graphviz import Digraph\n",
    "\n",
    "# Create a Digraph object for the class diagram\n",
    "dot = Digraph(comment='Car Rental System Class Diagram')\n",
    "\n",
    "# Set global graph attributes for style\n",
    "dot.attr(splines='true', nodesep='1', ranksep='1')\n",
    "\n",
    "# Define the 'User' class with custom colors\n",
    "dot.node('User', label='''{\n",
    "    <f0> User |\n",
    "    - userID: int \\l\n",
    "    - username: string \\l\n",
    "    - password: string \\l\n",
    "    - email: string \\l |\n",
    "    + login(): bool \\l\n",
    "    + logout(): void \\l\n",
    "    + register(): bool \\l\n",
    "}''', shape='record', style='filled', fillcolor='#A7C7E7', fontcolor='#000000', color='#0066cc')\n",
    "\n",
    "# Define the 'Car' class with custom colors\n",
    "dot.node('Car', label='''{\n",
    "    <f0> Car |\n",
    "    - carID: int \\l\n",
    "    - model: string \\l\n",
    "    - make: string \\l\n",
    "    - year: int \\l\n",
    "    - availability: bool \\l |\n",
    "    + checkAvailability(): bool \\l\n",
    "    + updateAvailability(): void \\l\n",
    "}''', shape='record', style='filled', fillcolor='#E7A7A7', fontcolor='#000000', color='#cc0000')\n",
    "\n",
    "# Define the 'Booking' class with custom colors\n",
    "dot.node('Booking', label='''{\n",
    "    <f0> Booking |\n",
    "    - bookingID: int \\l\n",
    "    - bookingDate: Date \\l\n",
    "    - returnDate: Date \\l\n",
    "    - status: string \\l |\n",
    "    + makeBooking(): bool \\l\n",
    "    + cancelBooking(): bool \\l\n",
    "}''', shape='record', style='filled', fillcolor='#A7E7A7', fontcolor='#000000', color='#00cc66')\n",
    "\n",
    "# Define the 'Payment' class with custom colors\n",
    "dot.node('Payment', label='''{\n",
    "    <f0> Payment |\n",
    "    - paymentID: int \\l\n",
    "    - amount: float \\l\n",
    "    - paymentMethod: string \\l |\n",
    "    + makePayment(): bool \\l\n",
    "}''', shape='record', style='filled', fillcolor='#F0E68C', fontcolor='#000000', color='#CCCC00')\n",
    "\n",
    "# Define the 'Admin' class with custom colors\n",
    "dot.node('Admin', label='''{\n",
    "    <f0> Admin |\n",
    "    - adminID: int \\l\n",
    "    - username: string \\l\n",
    "    - email: string \\l |\n",
    "    + addCar(): void \\l\n",
    "    + updateCarDetails(): void \\l\n",
    "    + deleteCar(): void \\l\n",
    "    + generateReports(): void \\l\n",
    "}''', shape='record', style='filled', fillcolor='#FFB6C1', fontcolor='#000000', color='#FF69B4')\n",
    "\n",
    "# Define relationships between classes\n",
    "# A User makes a Booking\n",
    "dot.edge('User', 'Booking', label='makes', color='#0066cc', fontcolor='#0066cc')\n",
    "\n",
    "# A Booking reserves a Car\n",
    "dot.edge('Booking', 'Car', label='reserves', color='#00cc66', fontcolor='#00cc66')\n",
    "\n",
    "# A Booking involves a Payment\n",
    "dot.edge('Booking', 'Payment', label='is paid with', color='#CCCC00', fontcolor='#CCCC00')\n",
    "\n",
    "# An Admin manages Cars\n",
    "dot.edge('Admin', 'Car', label='manages', color='#FF69B4', fontcolor='#FF69B4')\n",
    "\n",
    "# An Admin generates Booking reports\n",
    "dot.edge('Admin', 'Booking', label='oversees', color='#FF69B4', fontcolor='#FF69B4')\n",
    "\n",
    "# Render the diagram to a file\n",
    "dot.render('car_rental_system_class_diagram', format='png')\n",
    "\n",
    "# Optional: View the generated diagram\n",
    "dot.view()\n"
   ]
  },
  {
   "cell_type": "code",
   "execution_count": 3,
   "id": "1e0aabfb-5a51-43de-b185-dc15814cc34d",
   "metadata": {},
   "outputs": [
    {
     "data": {
      "text/plain": [
       "'car_rental_system_class_diagram.pdf'"
      ]
     },
     "execution_count": 3,
     "metadata": {},
     "output_type": "execute_result"
    }
   ],
   "source": [
    "from graphviz import Digraph\n",
    "\n",
    "# Create a Digraph object for the class diagram\n",
    "dot = Digraph(comment='Car Rental System Class Diagram')\n",
    "\n",
    "# Set global graph attributes for style\n",
    "dot.attr(splines='true', nodesep='1', ranksep='1')\n",
    "\n",
    "# Define the 'User' class with custom colors and figures\n",
    "dot.node('User', label='''<<TABLE BORDER=\"0\" CELLBORDER=\"1\" CELLSPACING=\"0\">\n",
    "  <TR><TD BGCOLOR=\"#A7C7E7\" COLSPAN=\"2\">User</TD></TR>\n",
    "  <TR><TD ALIGN=\"LEFT\">- userID: int</TD></TR>\n",
    "  <TR><TD ALIGN=\"LEFT\">- username: string</TD></TR>\n",
    "  <TR><TD ALIGN=\"LEFT\">- password: string</TD></TR>\n",
    "  <TR><TD ALIGN=\"LEFT\">- email: string</TD></TR>\n",
    "  <TR><TD ALIGN=\"LEFT\">+ login(): bool</TD></TR>\n",
    "  <TR><TD ALIGN=\"LEFT\">+ logout(): void</TD></TR>\n",
    "  <TR><TD ALIGN=\"LEFT\">+ register(): bool</TD></TR>\n",
    "</TABLE>>''', shape='plaintext')\n",
    "\n",
    "# Define the 'Car' class with custom colors and figures\n",
    "dot.node('Car', label='''<<TABLE BORDER=\"0\" CELLBORDER=\"1\" CELLSPACING=\"0\">\n",
    "  <TR><TD BGCOLOR=\"#E7A7A7\" COLSPAN=\"2\">Car</TD></TR>\n",
    "  <TR><TD ALIGN=\"LEFT\">- carID: int</TD></TR>\n",
    "  <TR><TD ALIGN=\"LEFT\">- model: string</TD></TR>\n",
    "  <TR><TD ALIGN=\"LEFT\">- make: string</TD></TR>\n",
    "  <TR><TD ALIGN=\"LEFT\">- year: int</TD></TR>\n",
    "  <TR><TD ALIGN=\"LEFT\">- availability: bool</TD></TR>\n",
    "  <TR><TD ALIGN=\"LEFT\">+ checkAvailability(): bool</TD></TR>\n",
    "  <TR><TD ALIGN=\"LEFT\">+ updateAvailability(): void</TD></TR>\n",
    "</TABLE>>''', shape='plaintext')\n",
    "\n",
    "# Define the 'Booking' class with custom colors and figures\n",
    "dot.node('Booking', label='''<<TABLE BORDER=\"0\" CELLBORDER=\"1\" CELLSPACING=\"0\">\n",
    "  <TR><TD BGCOLOR=\"#A7E7A7\" COLSPAN=\"2\">Booking</TD></TR>\n",
    "  <TR><TD ALIGN=\"LEFT\">- bookingID: int</TD></TR>\n",
    "  <TR><TD ALIGN=\"LEFT\">- bookingDate: Date</TD></TR>\n",
    "  <TR><TD ALIGN=\"LEFT\">- returnDate: Date</TD></TR>\n",
    "  <TR><TD ALIGN=\"LEFT\">- status: string</TD></TR>\n",
    "  <TR><TD ALIGN=\"LEFT\">+ makeBooking(): bool</TD></TR>\n",
    "  <TR><TD ALIGN=\"LEFT\">+ cancelBooking(): bool</TD></TR>\n",
    "</TABLE>>''', shape='plaintext')\n",
    "\n",
    "# Define the 'Payment' class with custom colors and figures\n",
    "dot.node('Payment', label='''<<TABLE BORDER=\"0\" CELLBORDER=\"1\" CELLSPACING=\"0\">\n",
    "  <TR><TD BGCOLOR=\"#F0E68C\" COLSPAN=\"2\">Payment</TD></TR>\n",
    "  <TR><TD ALIGN=\"LEFT\">- paymentID: int</TD></TR>\n",
    "  <TR><TD ALIGN=\"LEFT\">- amount: float</TD></TR>\n",
    "  <TR><TD ALIGN=\"LEFT\">- paymentMethod: string</TD></TR>\n",
    "  <TR><TD ALIGN=\"LEFT\">+ makePayment(): bool</TD></TR>\n",
    "</TABLE>>''', shape='plaintext')\n",
    "\n",
    "# Define the 'Admin' class with custom colors and figures\n",
    "dot.node('Admin', label='''<<TABLE BORDER=\"0\" CELLBORDER=\"1\" CELLSPACING=\"0\">\n",
    "  <TR><TD BGCOLOR=\"#FFB6C1\" COLSPAN=\"2\">Admin</TD></TR>\n",
    "  <TR><TD ALIGN=\"LEFT\">- adminID: int</TD></TR>\n",
    "  <TR><TD ALIGN=\"LEFT\">- username: string</TD></TR>\n",
    "  <TR><TD ALIGN=\"LEFT\">- email: string</TD></TR>\n",
    "  <TR><TD ALIGN=\"LEFT\">+ addCar(): void</TD></TR>\n",
    "  <TR><TD ALIGN=\"LEFT\">+ updateCarDetails(): void</TD></TR>\n",
    "  <TR><TD ALIGN=\"LEFT\">+ deleteCar(): void</TD></TR>\n",
    "  <TR><TD ALIGN=\"LEFT\">+ generateReports(): void</TD></TR>\n",
    "</TABLE>>''', shape='plaintext')\n",
    "\n",
    "# Define relationships between classes with colorful edges\n",
    "dot.edge('User', 'Booking', label='makes', color='#0066cc', fontcolor='#0066cc')\n",
    "dot.edge('Booking', 'Car', label='reserves', color='#00cc66', fontcolor='#00cc66')\n",
    "dot.edge('Booking', 'Payment', label='is paid with', color='#CCCC00', fontcolor='#CCCC00')\n",
    "dot.edge('Admin', 'Car', label='manages', color='#FF69B4', fontcolor='#FF69B4')\n",
    "dot.edge('Admin', 'Booking', label='oversees', color='#FF69B4', fontcolor='#FF69B4')\n",
    "\n",
    "# Render the diagram to a file\n",
    "dot.render('car_rental_system_class_diagram', format='png')\n",
    "\n",
    "# Optional: View the generated diagram\n",
    "dot.view()\n"
   ]
  },
  {
   "cell_type": "code",
   "execution_count": 1,
   "id": "8e181de7-bc0e-4ede-b1d3-1bd2a71ec6a7",
   "metadata": {},
   "outputs": [
    {
     "data": {
      "text/plain": [
       "'car_rental_system_class_diagram.pdf'"
      ]
     },
     "execution_count": 1,
     "metadata": {},
     "output_type": "execute_result"
    }
   ],
   "source": [
    "from graphviz import Digraph\n",
    "\n",
    "# Create a new Digraph object for the class diagram\n",
    "dot = Digraph(comment='Car Rental System Class Diagram')\n",
    "\n",
    "# Set graph attributes for better visualization\n",
    "dot.attr(rankdir='LR', size='8,5')\n",
    "\n",
    "# Define the 'User' class\n",
    "dot.node('User', label='''{\n",
    "    User |\n",
    "    - user_id: int \\l\n",
    "    - name: string \\l\n",
    "    - email: string \\l\n",
    "    - password: string \\l |\n",
    "    + register(): bool \\l\n",
    "    + login(): bool \\l\n",
    "    + logout(): void \\l\n",
    "    + updateProfile(): void \\l\n",
    "}''', shape='record')\n",
    "\n",
    "# Define the 'Customer' class, which inherits from 'User'\n",
    "dot.node('Customer', label='''{\n",
    "    Customer |\n",
    "    - driver_license: string \\l |\n",
    "    + viewAvailableCars(): list \\l\n",
    "    + makeBooking(): Booking \\l\n",
    "    + makePayment(): Payment \\l\n",
    "}''', shape='record')\n",
    "\n",
    "# Define the 'Admin' class, which inherits from 'User'\n",
    "dot.node('Admin', label='''{\n",
    "    Admin |\n",
    "    |\n",
    "    + addCar(): void \\l\n",
    "    + updateCar(): void \\l\n",
    "    + deleteCar(): void \\l\n",
    "    + generateReport(): Report \\l\n",
    "}''', shape='record')\n",
    "\n",
    "# Define the 'Car' class\n",
    "dot.node('Car', label='''{\n",
    "    Car |\n",
    "    - car_id: int \\l\n",
    "    - make: string \\l\n",
    "    - model: string \\l\n",
    "    - year: int \\l\n",
    "    - status: string \\l\n",
    "    - rental_rate: float \\l |\n",
    "    + checkAvailability(): bool \\l\n",
    "    + updateStatus(): void \\l\n",
    "}''', shape='record')\n",
    "\n",
    "# Define the 'Booking' class\n",
    "dot.node('Booking', label='''{\n",
    "    Booking |\n",
    "    - booking_id: int \\l\n",
    "    - booking_date: Date \\l\n",
    "    - start_date: Date \\l\n",
    "    - end_date: Date \\l\n",
    "    - status: string \\l |\n",
    "    + createBooking(): bool \\l\n",
    "    + cancelBooking(): bool \\l\n",
    "    + viewBookingDetails(): void \\l\n",
    "}''', shape='record')\n",
    "\n",
    "# Define the 'Payment' class\n",
    "dot.node('Payment', label='''{\n",
    "    Payment |\n",
    "    - payment_id: int \\l\n",
    "    - amount: float \\l\n",
    "    - payment_date: Date \\l\n",
    "    - payment_method: string \\l |\n",
    "    + processPayment(): bool \\l\n",
    "    + generateReceipt(): Receipt \\l\n",
    "}''', shape='record')\n",
    "\n",
    "# Define the 'Report' class\n",
    "dot.node('Report', label='''{\n",
    "    Report |\n",
    "    - report_id: int \\l\n",
    "    - report_date: Date \\l\n",
    "    - report_type: string \\l |\n",
    "    + generateReport(): void \\l\n",
    "}''', shape='record')\n",
    "\n",
    "# Define relationships (inheritance and associations)\n",
    "\n",
    "# Inheritance relationships\n",
    "dot.edge('User', 'Customer', arrowhead='empty', style='solid')\n",
    "dot.edge('User', 'Admin', arrowhead='empty', style='solid')\n",
    "\n",
    "# Associations\n",
    "dot.edge('Customer', 'Booking', label='makes', arrowhead='none')\n",
    "dot.edge('Booking', 'Car', label='reserves', arrowhead='none')\n",
    "dot.edge('Booking', 'Payment', label='is paid by', arrowhead='none')\n",
    "dot.edge('Admin', 'Car', label='manages', arrowhead='none')\n",
    "dot.edge('Admin', 'Report', label='generates', arrowhead='none')\n",
    "\n",
    "# Render the diagram to a file\n",
    "dot.render('car_rental_system_class_diagram', format='png')\n",
    "\n",
    "# Optional: View the generated diagram\n",
    "dot.view()\n"
   ]
  },
  {
   "cell_type": "code",
   "execution_count": 5,
   "id": "004e935f-fc59-4507-8dd6-4093525245c8",
   "metadata": {},
   "outputs": [
    {
     "data": {
      "text/plain": [
       "'car_rental_sequence_diagram.pdf'"
      ]
     },
     "execution_count": 5,
     "metadata": {},
     "output_type": "execute_result"
    }
   ],
   "source": [
    "from graphviz import Digraph\n",
    "\n",
    "# Create a Digraph object for the sequence diagram\n",
    "dot = Digraph(comment='Car Rental System Sequence Diagram')\n",
    "\n",
    "# Add nodes (actors and participants) for the sequence diagram\n",
    "dot.node('User', 'User')\n",
    "dot.node('CRS', 'Car Rental System')\n",
    "dot.node('Admin', 'Admin')\n",
    "dot.node('PG', 'Payment Gateway')\n",
    "\n",
    "# Add edges (interactions) for the sequence diagram\n",
    "dot.edge('User', 'CRS', 'Selects Car')\n",
    "dot.edge('CRS', 'Admin', 'Requests Availability')\n",
    "dot.edge('Admin', 'CRS', 'Confirms Availability')\n",
    "dot.edge('CRS', 'User', 'Shows Available Cars')\n",
    "dot.edge('User', 'CRS', 'Makes Booking')\n",
    "dot.edge('CRS', 'PG', 'Processes Payment')\n",
    "dot.edge('PG', 'CRS', 'Payment Confirmation')\n",
    "dot.edge('CRS', 'User', 'Booking Confirmation')\n",
    "\n",
    "# Render the diagram to a file (PNG format)\n",
    "dot.render('car_rental_sequence_diagram', format='png')\n",
    "\n",
    "# Optional: View the generated diagram\n",
    "dot.view()\n"
   ]
  },
  {
   "cell_type": "code",
   "execution_count": 7,
   "id": "5cdaf4be-bd38-494b-b4ad-6fd3b66041de",
   "metadata": {},
   "outputs": [
    {
     "data": {
      "text/plain": [
       "'car_rental_activity_diagram.pdf'"
      ]
     },
     "execution_count": 7,
     "metadata": {},
     "output_type": "execute_result"
    }
   ],
   "source": [
    "from graphviz import Digraph\n",
    "\n",
    "# Create a Digraph object for the activity diagram\n",
    "dot = Digraph(comment='Car Rental System Activity Diagram')\n",
    "\n",
    "# Define the nodes (actions) in the activity diagram\n",
    "dot.node('start', 'Start', shape='circle')\n",
    "dot.node('SelectCar', 'Select Car')\n",
    "dot.node('RequestAvailability', 'Request Availability')\n",
    "dot.node('CheckAvailability', 'Check Availability', shape='diamond')\n",
    "dot.node('ConfirmAvailability', 'Confirm Availability')\n",
    "dot.node('ShowAvailableCars', 'Show Available Cars')\n",
    "dot.node('MakeBooking', 'Make Booking')\n",
    "dot.node('ProcessPayment', 'Process Payment', shape='diamond')\n",
    "dot.node('ConfirmPayment', 'Confirm Payment')\n",
    "dot.node('ConfirmBooking', 'Confirm Booking')\n",
    "dot.node('end', 'End', shape='circle')\n",
    "\n",
    "# Define the edges (flow of actions) in the activity diagram\n",
    "dot.edge('start', 'SelectCar')\n",
    "dot.edge('SelectCar', 'RequestAvailability')\n",
    "dot.edge('RequestAvailability', 'CheckAvailability')\n",
    "dot.edge('CheckAvailability', 'ConfirmAvailability')\n",
    "dot.edge('ConfirmAvailability', 'ShowAvailableCars')\n",
    "dot.edge('ShowAvailableCars', 'MakeBooking')\n",
    "dot.edge('MakeBooking', 'ProcessPayment')\n",
    "dot.edge('ProcessPayment', 'ConfirmPayment')\n",
    "dot.edge('ConfirmPayment', 'ConfirmBooking')\n",
    "dot.edge('ConfirmBooking', 'end')\n",
    "\n",
    "# Render the diagram to a file (PNG format)\n",
    "dot.render('car_rental_activity_diagram', format='png')\n",
    "\n",
    "# Optional: View the generated diagram\n",
    "dot.view()\n"
   ]
  },
  {
   "cell_type": "code",
   "execution_count": null,
   "id": "01dc5bfc-0e23-488e-9d5b-ee9468117279",
   "metadata": {},
   "outputs": [],
   "source": []
  }
 ],
 "metadata": {
  "kernelspec": {
   "display_name": "Python 3 (ipykernel)",
   "language": "python",
   "name": "python3"
  },
  "language_info": {
   "codemirror_mode": {
    "name": "ipython",
    "version": 3
   },
   "file_extension": ".py",
   "mimetype": "text/x-python",
   "name": "python",
   "nbconvert_exporter": "python",
   "pygments_lexer": "ipython3",
   "version": "3.11.7"
  }
 },
 "nbformat": 4,
 "nbformat_minor": 5
}
