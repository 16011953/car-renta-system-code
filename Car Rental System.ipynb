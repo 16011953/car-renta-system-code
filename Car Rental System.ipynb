{
 "cells": [
  {
   "cell_type": "code",
   "execution_count": 1,
   "id": "05e60d1f-1d08-48d8-83fa-3971faf4d802",
   "metadata": {},
   "outputs": [
    {
     "name": "stdout",
     "output_type": "stream",
     "text": [
      "True\n"
     ]
    }
   ],
   "source": [
    "class DatabaseConnection:\n",
    "    _instance = None\n",
    "\n",
    "    def __init__(self):\n",
    "        if DatabaseConnection._instance is not None:\n",
    "            raise Exception(\"This class is a singleton!\")\n",
    "        else:\n",
    "            DatabaseConnection._instance = self\n",
    "\n",
    "    @staticmethod\n",
    "    def get_instance():\n",
    "        if DatabaseConnection._instance is None:\n",
    "            DatabaseConnection()\n",
    "        return DatabaseConnection._instance\n",
    "\n",
    "# Example usage:\n",
    "db_conn1 = DatabaseConnection.get_instance()\n",
    "db_conn2 = DatabaseConnection.get_instance()\n",
    "print(db_conn1 == db_conn2)  # True, same instance\n"
   ]
  },
  {
   "cell_type": "code",
   "execution_count": 3,
   "id": "40d856bc-8fd0-4ed1-836e-4ac39a6d2677",
   "metadata": {},
   "outputs": [
    {
     "name": "stdout",
     "output_type": "stream",
     "text": [
      "Car created: Toyota Camry at 50 per day.\n"
     ]
    }
   ],
   "source": [
    "class Car:\n",
    "    def __init__(self, car_id, model, availability, price_per_day):\n",
    "        self.car_id = car_id\n",
    "        self.model = model\n",
    "        self.availability = availability\n",
    "        self.price_per_day = price_per_day\n",
    "\n",
    "class CarFactory:\n",
    "    @staticmethod\n",
    "    def create_car(car_id, model, availability, price_per_day):\n",
    "        return Car(car_id, model, availability, price_per_day)\n",
    "\n",
    "# Example usage:\n",
    "car = CarFactory.create_car(101, \"Toyota Camry\", True, 50)\n",
    "print(f\"Car created: {car.model} at {car.price_per_day} per day.\")\n"
   ]
  },
  {
   "cell_type": "code",
   "execution_count": 5,
   "id": "df625baa-0221-4297-be92-06bafdf3f16c",
   "metadata": {},
   "outputs": [
    {
     "name": "stdout",
     "output_type": "stream",
     "text": [
      "Notification for John Doe: Your booking is confirmed!\n"
     ]
    }
   ],
   "source": [
    "class User:\n",
    "    def __init__(self, user_id, name, email):\n",
    "        self.user_id = user_id\n",
    "        self.name = name\n",
    "        self.email = email\n",
    "\n",
    "class NotificationSystem:\n",
    "    def __init__(self):\n",
    "        self._observers = []\n",
    "\n",
    "    def attach(self, observer):\n",
    "        if observer not in self._observers:\n",
    "            self._observers.append(observer)\n",
    "\n",
    "    def detach(self, observer):\n",
    "        self._observers.remove(observer)\n",
    "\n",
    "    def notify(self, message):\n",
    "        for observer in self._observers:\n",
    "            observer.update(message)\n",
    "\n",
    "class UserObserver:\n",
    "    def __init__(self, user):\n",
    "        self.user = user\n",
    "\n",
    "    def update(self, message):\n",
    "        print(f\"Notification for {self.user.name}: {message}\")\n",
    "\n",
    "# Example usage:\n",
    "notif_system = NotificationSystem()\n",
    "user1 = User(1, \"John Doe\", \"john@example.com\")\n",
    "user_observer = UserObserver(user1)\n",
    "\n",
    "notif_system.attach(user_observer)\n",
    "notif_system.notify(\"Your booking is confirmed!\")\n"
   ]
  },
  {
   "cell_type": "code",
   "execution_count": 7,
   "id": "d45cfbfe-2164-4b4e-9c8a-a5a3ce880054",
   "metadata": {},
   "outputs": [
    {
     "name": "stdout",
     "output_type": "stream",
     "text": [
      "Booking confirmed for John Doe for car Toyota Camry.\n"
     ]
    }
   ],
   "source": [
    "class Booking:\n",
    "    def __init__(self, booking_id, user, car, booking_date, return_date):\n",
    "        self.booking_id = booking_id\n",
    "        self.user = user\n",
    "        self.car = car\n",
    "        self.booking_date = booking_date\n",
    "        self.return_date = return_date\n",
    "        self.status = \"Pending\"\n",
    "\n",
    "    def create_booking(self):\n",
    "        if self.car.availability:\n",
    "            self.status = \"Confirmed\"\n",
    "            self.car.availability = False\n",
    "            print(f\"Booking confirmed for {self.user.name} for car {self.car.model}.\")\n",
    "        else:\n",
    "            print(\"Car is not available for booking.\")\n",
    "\n",
    "# Example usage:\n",
    "user = User(1, \"John Doe\", \"john@example.com\")\n",
    "car = CarFactory.create_car(101, \"Toyota Camry\", True, 50)\n",
    "booking = Booking(1, user, car, \"2024-10-12\", \"2024-10-15\")\n",
    "booking.create_booking()\n"
   ]
  },
  {
   "cell_type": "code",
   "execution_count": 9,
   "id": "cf51b3e8-3217-41f6-8f3c-a2474cf003a3",
   "metadata": {},
   "outputs": [
    {
     "name": "stdout",
     "output_type": "stream",
     "text": [
      "Payment of $150 confirmed for booking 1.\n"
     ]
    }
   ],
   "source": [
    "class Payment:\n",
    "    def __init__(self, payment_id, booking, amount):\n",
    "        self.payment_id = payment_id\n",
    "        self.booking = booking\n",
    "        self.amount = amount\n",
    "        self.status = \"Pending\"\n",
    "\n",
    "    def process_payment(self):\n",
    "        self.status = \"Confirmed\"\n",
    "        print(f\"Payment of ${self.amount} confirmed for booking {self.booking.booking_id}.\")\n",
    "\n",
    "# Example usage:\n",
    "payment = Payment(1, booking, car.price_per_day * 3)\n",
    "payment.process_payment()\n"
   ]
  },
  {
   "cell_type": "code",
   "execution_count": 11,
   "id": "84828456-9822-4630-b491-65d31b88a92d",
   "metadata": {},
   "outputs": [
    {
     "name": "stdout",
     "output_type": "stream",
     "text": [
      "John Doe\n",
      "True\n"
     ]
    }
   ],
   "source": [
    "#implementation using backend coding\n",
    "class User:\n",
    "    def __init__(self, user_id, name, email, password, role=\"customer\"):\n",
    "        self.user_id = user_id\n",
    "        self.name = name\n",
    "        self.email = email\n",
    "        self.__password = password  # Private attribute for security\n",
    "        self.role = role  # Role can be 'customer' or 'admin'\n",
    "\n",
    "    def check_password(self, password):\n",
    "        \"\"\"Check if the provided password matches the user's password.\"\"\"\n",
    "        return self.__password == password\n",
    "\n",
    "    def get_role(self):\n",
    "        return self.role\n",
    "\n",
    "# Example Usage:\n",
    "user1 = User(1, \"John Doe\", \"john@example.com\", \"password123\", \"customer\")\n",
    "print(user1.name)  # John Doe\n",
    "print(user1.check_password(\"password123\"))  # True\n"
   ]
  },
  {
   "cell_type": "code",
   "execution_count": 13,
   "id": "2c0371ee-6255-4826-b539-16806a698ac9",
   "metadata": {},
   "outputs": [
    {
     "name": "stdout",
     "output_type": "stream",
     "text": [
      "Car Model: Toyota Camry, Available: True\n"
     ]
    }
   ],
   "source": [
    "class Car:\n",
    "    def __init__(self, car_id, model, availability=True, price_per_day=50):\n",
    "        self.car_id = car_id\n",
    "        self.model = model\n",
    "        self.availability = availability\n",
    "        self.price_per_day = price_per_day\n",
    "\n",
    "    def update_availability(self, is_available):\n",
    "        \"\"\"Update car availability status.\"\"\"\n",
    "        self.availability = is_available\n",
    "\n",
    "# Example Usage:\n",
    "car1 = Car(101, \"Toyota Camry\", True, 50)\n",
    "print(f\"Car Model: {car1.model}, Available: {car1.availability}\")  # Toyota Camry, Available: True\n"
   ]
  },
  {
   "cell_type": "code",
   "execution_count": 15,
   "id": "4e03f37a-d116-4e0b-8ffe-a696ca7ebdda",
   "metadata": {},
   "outputs": [
    {
     "name": "stdout",
     "output_type": "stream",
     "text": [
      "Booking confirmed for John Doe on Toyota Camry.\n"
     ]
    }
   ],
   "source": [
    "class Booking:\n",
    "    def __init__(self, booking_id, user, car, booking_date, return_date):\n",
    "        self.booking_id = booking_id\n",
    "        self.user = user\n",
    "        self.car = car\n",
    "        self.booking_date = booking_date\n",
    "        self.return_date = return_date\n",
    "        self.status = \"Pending\"\n",
    "\n",
    "    def create_booking(self):\n",
    "        \"\"\"Create a booking and mark the car as unavailable.\"\"\"\n",
    "        if self.car.availability:\n",
    "            self.car.update_availability(False)\n",
    "            self.status = \"Confirmed\"\n",
    "            print(f\"Booking confirmed for {self.user.name} on {self.car.model}.\")\n",
    "        else:\n",
    "            print(\"Car is not available for booking.\")\n",
    "\n",
    "    def cancel_booking(self):\n",
    "        \"\"\"Cancel a booking and mark the car as available.\"\"\"\n",
    "        self.status = \"Cancelled\"\n",
    "        self.car.update_availability(True)\n",
    "        print(f\"Booking {self.booking_id} cancelled.\")\n",
    "\n",
    "# Example Usage:\n",
    "booking1 = Booking(1, user1, car1, \"2024-10-12\", \"2024-10-15\")\n",
    "booking1.create_booking()  # Confirms booking if the car is available\n"
   ]
  },
  {
   "cell_type": "code",
   "execution_count": 17,
   "id": "9883030e-2da5-4930-aac4-ee968b7cff1d",
   "metadata": {},
   "outputs": [
    {
     "name": "stdout",
     "output_type": "stream",
     "text": [
      "Payment of $150 confirmed for booking 1.\n"
     ]
    }
   ],
   "source": [
    "class Payment:\n",
    "    def __init__(self, payment_id, booking, amount):\n",
    "        self.payment_id = payment_id\n",
    "        self.booking = booking\n",
    "        self.amount = amount\n",
    "        self.status = \"Pending\"\n",
    "\n",
    "    def process_payment(self):\n",
    "        \"\"\"Processes the payment.\"\"\"\n",
    "        if self.booking.status == \"Confirmed\":\n",
    "            self.status = \"Confirmed\"\n",
    "            print(f\"Payment of ${self.amount} confirmed for booking {self.booking.booking_id}.\")\n",
    "        else:\n",
    "            print(f\"Payment cannot be processed. Booking status: {self.booking.status}\")\n",
    "\n",
    "# Example Usage:\n",
    "payment1 = Payment(1, booking1, car1.price_per_day * 3)\n",
    "payment1.process_payment()  # Process the payment for the booking\n"
   ]
  },
  {
   "cell_type": "code",
   "execution_count": 19,
   "id": "ff4d72d1-d50c-40fa-af0a-55aff1b891ac",
   "metadata": {},
   "outputs": [
    {
     "name": "stdout",
     "output_type": "stream",
     "text": [
      "New database connection created.\n",
      "True\n"
     ]
    }
   ],
   "source": [
    "class DatabaseConnection:\n",
    "    _instance = None\n",
    "\n",
    "    def __new__(cls):\n",
    "        if cls._instance is None:\n",
    "            cls._instance = super(DatabaseConnection, cls).__new__(cls)\n",
    "            print(\"New database connection created.\")\n",
    "        return cls._instance\n",
    "\n",
    "    def connect(self):\n",
    "        print(\"Connecting to the database...\")\n",
    "\n",
    "# Example Usage:\n",
    "db1 = DatabaseConnection()\n",
    "db2 = DatabaseConnection()\n",
    "print(db1 == db2)  # Output: True, both are the same instance\n"
   ]
  },
  {
   "cell_type": "code",
   "execution_count": 21,
   "id": "75548919-084f-47ef-82b9-d6a7b7c4b7f3",
   "metadata": {},
   "outputs": [
    {
     "data": {
      "text/plain": [
       "'/mnt/data/car_rental_class_diagram.png'"
      ]
     },
     "execution_count": 21,
     "metadata": {},
     "output_type": "execute_result"
    }
   ],
   "source": [
    "# Importing necessary libraries to generate a UML class diagram using graphviz\n",
    "from graphviz import Digraph\n",
    "\n",
    "# Create a new Digraph object for class diagram\n",
    "uml_diagram = Digraph('Car Rental System Class Diagram', format='png')\n",
    "\n",
    "# Adding nodes (classes)\n",
    "uml_diagram.node('User', '''User\n",
    "-------------\n",
    "- user_id: int\n",
    "- name: str\n",
    "- email: str\n",
    "- __password: str\n",
    "- role: str\n",
    "-------------\n",
    "+ check_password()\n",
    "+ get_role()''')\n",
    "\n",
    "uml_diagram.node('Car', '''Car\n",
    "-------------\n",
    "- car_id: int\n",
    "- model: str\n",
    "- availability: bool\n",
    "- price_per_day: float\n",
    "-------------\n",
    "+ update_availability()''')\n",
    "\n",
    "uml_diagram.node('Booking', '''Booking\n",
    "-------------\n",
    "- booking_id: int\n",
    "- user: User\n",
    "- car: Car\n",
    "- booking_date: str\n",
    "- return_date: str\n",
    "- status: str\n",
    "-------------\n",
    "+ create_booking()\n",
    "+ cancel_booking()''')\n",
    "\n",
    "uml_diagram.node('Payment', '''Payment\n",
    "-------------\n",
    "- payment_id: int\n",
    "- booking: Booking\n",
    "- amount: float\n",
    "- status: str\n",
    "-------------\n",
    "+ process_payment()''')\n",
    "\n",
    "uml_diagram.node('DatabaseConnection', '''DatabaseConnection\n",
    "-------------\n",
    "- _instance: DatabaseConnection\n",
    "-------------\n",
    "+ connect()''')\n",
    "\n",
    "# Adding relationships (edges)\n",
    "uml_diagram.edge('User', 'Booking', label=\"creates\")\n",
    "uml_diagram.edge('Car', 'Booking', label=\"booked by\")\n",
    "uml_diagram.edge('Booking', 'Payment', label=\"related to\")\n",
    "uml_diagram.edge('DatabaseConnection', 'Booking', label=\"interacts with\")\n",
    "uml_diagram.edge('DatabaseConnection', 'Payment', label=\"interacts with\")\n",
    "\n",
    "# Rendering the diagram to PNG format\n",
    "uml_diagram.render('/mnt/data/car_rental_class_diagram')\n",
    "\n",
    "# Displaying success message with the file path\n",
    "'/mnt/data/car_rental_class_diagram.png'\n"
   ]
  },
  {
   "cell_type": "code",
   "execution_count": null,
   "id": "f1f61c53-ad09-49d1-be8e-778008d73327",
   "metadata": {},
   "outputs": [],
   "source": []
  }
 ],
 "metadata": {
  "kernelspec": {
   "display_name": "Python 3 (ipykernel)",
   "language": "python",
   "name": "python3"
  },
  "language_info": {
   "codemirror_mode": {
    "name": "ipython",
    "version": 3
   },
   "file_extension": ".py",
   "mimetype": "text/x-python",
   "name": "python",
   "nbconvert_exporter": "python",
   "pygments_lexer": "ipython3",
   "version": "3.11.7"
  }
 },
 "nbformat": 4,
 "nbformat_minor": 5
}
